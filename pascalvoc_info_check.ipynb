{
 "cells": [
  {
   "cell_type": "code",
   "execution_count": 1,
   "metadata": {
    "collapsed": true
   },
   "outputs": [],
   "source": [
    "# pascalvoc_2007.py\n",
    "\n",
    "TRAIN_STATISTICS_2007 = {\n",
    "    'none': (0, 0),\n",
    "    'aeroplane': (238, 306),\n",
    "    'bicycle': (243, 353),\n",
    "    'bird': (330, 486),\n",
    "    'boat': (181, 290),\n",
    "    'bottle': (244, 505),\n",
    "    'bus': (186, 229),\n",
    "    'car': (713, 1250),\n",
    "    'cat': (337, 376),\n",
    "    'chair': (445, 798),\n",
    "    'cow': (141, 259),\n",
    "    'diningtable': (200, 215),\n",
    "    'dog': (421, 510),\n",
    "    'horse': (287, 362),\n",
    "    'motorbike': (245, 339),\n",
    "    'person': (2008, 4690),\n",
    "    'pottedplant': (245, 514),\n",
    "    'sheep': (96, 257),\n",
    "    'sofa': (229, 248),\n",
    "    'train': (261, 297),\n",
    "    'tvmonitor': (256, 324),\n",
    "    'total': (5011, 12608),\n",
    "}\n",
    "\n",
    "\n",
    "TRAIN_STATISTICS_2012 = {\n",
    "    'none': (0, 0),\n",
    "    'aeroplane': (670, 865),\n",
    "    'bicycle': (552, 711),\n",
    "    'bird': (765, 1119),\n",
    "    'boat': (508, 850),\n",
    "    'bottle': (706, 1259),\n",
    "    'bus': (421, 593),\n",
    "    'car': (1161, 2017),\n",
    "    'cat': (1080, 1217),\n",
    "    'chair': (1119, 2354),\n",
    "    'cow': (303, 588),\n",
    "    'diningtable': (538, 609),\n",
    "    'dog': (1286, 1515),\n",
    "    'horse': (482, 710),\n",
    "    'motorbike': (526, 713),\n",
    "    'person': (4087, 8566),\n",
    "    'pottedplant': (527, 973),\n",
    "    'sheep': (325, 813),\n",
    "    'sofa': (507, 566),\n",
    "    'train': (544, 628),\n",
    "    'tvmonitor': (575, 784),\n",
    "    'total': (11540, 27450),\n",
    "}"
   ]
  },
  {
   "cell_type": "code",
   "execution_count": 2,
   "metadata": {},
   "outputs": [
    {
     "data": {
      "text/plain": [
       "22136"
      ]
     },
     "execution_count": 2,
     "metadata": {},
     "output_type": "execute_result"
    }
   ],
   "source": [
    "5011 + 17125"
   ]
  },
  {
   "cell_type": "code",
   "execution_count": 12,
   "metadata": {},
   "outputs": [
    {
     "name": "stdout",
     "output_type": "stream",
     "text": [
      "7306\n"
     ]
    }
   ],
   "source": [
    "total = 0\n",
    "for key in TRAIN_STATISTICS_2007:\n",
    "    if key != 'total':\n",
    "#         print(TRAIN_STATISTICS_2012[key][0])\n",
    "        total += TRAIN_STATISTICS_2007[key][0]\n",
    "print(total)"
   ]
  },
  {
   "cell_type": "code",
   "execution_count": 13,
   "metadata": {},
   "outputs": [
    {
     "name": "stdout",
     "output_type": "stream",
     "text": [
      "16682\n"
     ]
    }
   ],
   "source": [
    "total = 0\n",
    "for key in TRAIN_STATISTICS_2012:\n",
    "    if key != 'total':\n",
    "#         print(TRAIN_STATISTICS_2012[key][0])\n",
    "        total += TRAIN_STATISTICS_2012[key][0]\n",
    "print(total)"
   ]
  },
  {
   "cell_type": "code",
   "execution_count": 14,
   "metadata": {
    "collapsed": true
   },
   "outputs": [],
   "source": [
    "new_statistics = {}\n",
    "for key in TRAIN_STATISTICS_2007:\n",
    "    new_statistics[key] = (TRAIN_STATISTICS_2007[key][0] + TRAIN_STATISTICS_2012[key][0], TRAIN_STATISTICS_2007[key][1] + TRAIN_STATISTICS_2012[key][1])"
   ]
  },
  {
   "cell_type": "code",
   "execution_count": 15,
   "metadata": {},
   "outputs": [
    {
     "data": {
      "text/plain": [
       "{'aeroplane': (908, 1171),\n",
       " 'bicycle': (795, 1064),\n",
       " 'bird': (1095, 1605),\n",
       " 'boat': (689, 1140),\n",
       " 'bottle': (950, 1764),\n",
       " 'bus': (607, 822),\n",
       " 'car': (1874, 3267),\n",
       " 'cat': (1417, 1593),\n",
       " 'chair': (1564, 3152),\n",
       " 'cow': (444, 847),\n",
       " 'diningtable': (738, 824),\n",
       " 'dog': (1707, 2025),\n",
       " 'horse': (769, 1072),\n",
       " 'motorbike': (771, 1052),\n",
       " 'none': (0, 0),\n",
       " 'person': (6095, 13256),\n",
       " 'pottedplant': (772, 1487),\n",
       " 'sheep': (421, 1070),\n",
       " 'sofa': (736, 814),\n",
       " 'total': (16551, 40058),\n",
       " 'train': (805, 925),\n",
       " 'tvmonitor': (831, 1108)}"
      ]
     },
     "execution_count": 15,
     "metadata": {},
     "output_type": "execute_result"
    }
   ],
   "source": [
    "new_statistics"
   ]
  },
  {
   "cell_type": "code",
   "execution_count": null,
   "metadata": {
    "collapsed": true
   },
   "outputs": [],
   "source": []
  }
 ],
 "metadata": {
  "kernelspec": {
   "display_name": "Python 2",
   "language": "python",
   "name": "python2"
  },
  "language_info": {
   "codemirror_mode": {
    "name": "ipython",
    "version": 2
   },
   "file_extension": ".py",
   "mimetype": "text/x-python",
   "name": "python",
   "nbconvert_exporter": "python",
   "pygments_lexer": "ipython2",
   "version": "2.7.12"
  }
 },
 "nbformat": 4,
 "nbformat_minor": 2
}
